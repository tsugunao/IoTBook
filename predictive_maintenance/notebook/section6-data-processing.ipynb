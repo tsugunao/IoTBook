{
 "cells": [
  {
   "cell_type": "markdown",
   "id": "fcd3c3dc-b959-4f7e-a952-13ad5bbd7607",
   "metadata": {},
   "source": [
    "# 6章：機械学習の適用による予兆検知（Amazon SageMaker）"
   ]
  },
  {
   "cell_type": "markdown",
   "id": "0796815e-300e-455e-84c6-79590b5ac232",
   "metadata": {},
   "source": [
    "ここでは推論用のデータのデータ加工を実施します。"
   ]
  },
  {
   "cell_type": "markdown",
   "id": "da4f9975-e2d2-412e-8f65-d3088fefdff0",
   "metadata": {},
   "source": [
    "## ライブラリのインストールと読み込み"
   ]
  },
  {
   "cell_type": "markdown",
   "id": "e3760753-a0d1-42a1-baab-ef48a1f8e018",
   "metadata": {},
   "source": [
    "必要なpythonライブラリのインストールとimportを行います。"
   ]
  },
  {
   "cell_type": "code",
   "execution_count": 1,
   "id": "f1c28c95-114a-4a12-bb85-eb0f98b26dea",
   "metadata": {
    "tags": []
   },
   "outputs": [
    {
     "name": "stdout",
     "output_type": "stream",
     "text": [
      "Requirement already satisfied: smart-open in /home/ec2-user/anaconda3/envs/python3/lib/python3.10/site-packages (7.0.4)\n",
      "Requirement already satisfied: wrapt in /home/ec2-user/anaconda3/envs/python3/lib/python3.10/site-packages (from smart-open) (1.15.0)\n",
      "Requirement already satisfied: tqdm in /home/ec2-user/anaconda3/envs/python3/lib/python3.10/site-packages (4.66.1)\n"
     ]
    },
    {
     "name": "stderr",
     "output_type": "stream",
     "text": [
      "/home/ec2-user/anaconda3/envs/python3/lib/python3.10/site-packages/pandas/core/computation/expressions.py:21: UserWarning: Pandas requires version '2.8.0' or newer of 'numexpr' (version '2.7.3' currently installed).\n",
      "  from pandas.core.computation.check import NUMEXPR_INSTALLED\n"
     ]
    }
   ],
   "source": [
    "!pip install smart-open\n",
    "!pip install tqdm\n",
    "\n",
    "import pandas as pd\n",
    "import numpy as np\n",
    "import datetime as dt\n",
    "import csv\n",
    "import smart_open\n",
    "from tqdm.notebook import tqdm\n",
    "import boto3"
   ]
  },
  {
   "cell_type": "markdown",
   "id": "c7d83ca4-e796-4aef-abd9-6281a24e19b6",
   "metadata": {},
   "source": [
    "## データ加工"
   ]
  },
  {
   "cell_type": "markdown",
   "id": "b5ce1a49-50e4-434b-ba4e-903918c5fe70",
   "metadata": {},
   "source": [
    "NASA Bearing Datasetのデータ加工を行います。今回のデータは推論ようです。データ加工内容は、時刻情報の追加です。\\\n",
    "`{your bucket name}`にご自身のS3バケット名を入力し、実行します。\\\n",
    "データ量が多いため、実行には数分要します。"
   ]
  },
  {
   "cell_type": "code",
   "execution_count": 2,
   "id": "287f207d-b5b9-4f5d-8288-95b042891aff",
   "metadata": {
    "tags": []
   },
   "outputs": [
    {
     "name": "stdout",
     "output_type": "stream",
     "text": [
      "stop\n"
     ]
    },
    {
     "data": {
      "application/vnd.jupyter.widget-view+json": {
       "model_id": "f508dde7c62f48ed89168dd31e3af7f0",
       "version_major": 2,
       "version_minor": 0
      },
      "text/plain": [
       "  0%|          | 0/106 [00:00<?, ?it/s]"
      ]
     },
     "metadata": {},
     "output_type": "display_data"
    }
   ],
   "source": [
    "bucket_name = \"{your bucket name}\"\n",
    "rawdata_prefix_key = \"IMS/3rd_test\"\n",
    "csvdata_prefix_key = \"csv/3rd_test\"\n",
    "\n",
    "#S3から生データのファイルリストを取得\n",
    "s3_client = boto3.resource('s3')\n",
    "bucket = s3_client.Bucket(bucket_name)\n",
    "\n",
    "contents = []\n",
    "continuation_token = None\n",
    "while True:\n",
    "    if continuation_token == None:\n",
    "        response = bucket.meta.client.list_objects_v2(Bucket=bucket.name, Prefix=rawdata_prefix_key)\n",
    "        #print(response)\n",
    "    else:\n",
    "        response = bucket.meta.client.list_objects_v2(Bucket=bucket.name, Prefix=rawdata_prefix_key,ContinuationToken=continuation_token)\n",
    "        #print(response)\n",
    "        \n",
    "    if \"Contents\" in response:\n",
    "        contents.extend([content for content in response[\"Contents\"]])\n",
    "        continuation_token = response.get('NextContinuationToken')\n",
    "        if continuation_token is not None:\n",
    "            print(\"continue\")\n",
    "        else:\n",
    "            print(\"stop\")\n",
    "            break\n",
    "    else:\n",
    "        break\n",
    "            \n",
    "# 各ファイルでのデータ処理\n",
    "for obj in tqdm(contents):\n",
    "    if obj[\"Size\"] != 0 :\n",
    "        prefixKey = obj[\"Key\"]\n",
    "        \n",
    "        #ファイル名から開始時刻の取得\n",
    "        filename_format = '%Y.%m.%d.%H.%M.%S'\n",
    "        target_time = dt.datetime.strptime(prefixKey.split('/')[-1], filename_format)\n",
    "        \n",
    "        #出力するcsvファイル名、urlを定義\n",
    "        csv_filename = prefixKey.split(\"/\")[-1]+'.csv'\n",
    "        url = \"s3://{}/{}/{}\".format(bucket_name,csvdata_prefix_key,csv_filename)\n",
    "        \n",
    "        #データ処理\n",
    "        #S3から生データを読み込み、日付を先頭に追加してcsvファイルとしてS3に配置する。\n",
    "        with smart_open.open(url, 'w', transport_params={'client': boto3.client('s3')}) as fout:\n",
    "            writer = csv.writer(fout)\n",
    "            with smart_open.open(\"s3://{}/{}\".format(bucket_name,prefixKey),'rb', transport_params={'client': boto3.client('s3')}) as fin:\n",
    "                for _line in fin:\n",
    "                    #ファイル中のレコード読み込み\n",
    "                    _line = _line.decode().replace('\\r\\n','').split('\\t')\n",
    "\n",
    "                    #時刻追加\n",
    "                    _line.insert(0,target_time.strftime('%Y-%m-%d %H:%M:%S.%f'))\n",
    "\n",
    "                    #レコードの追加\n",
    "                    writer.writerow(_line)\n",
    "\n",
    "                    #時間の更新\n",
    "                    target_time = target_time + dt.timedelta(milliseconds=600000/20480)"
   ]
  },
  {
   "cell_type": "markdown",
   "id": "e851d0bd-d17b-4016-a5a6-ad33781408ea",
   "metadata": {
    "tags": []
   },
   "source": [
    "### EOF"
   ]
  },
  {
   "cell_type": "code",
   "execution_count": null,
   "id": "2022f3f4-f0d3-40ae-b5e8-4f28c5e0c1f4",
   "metadata": {},
   "outputs": [],
   "source": []
  }
 ],
 "metadata": {
  "kernelspec": {
   "display_name": "conda_python3",
   "language": "python",
   "name": "conda_python3"
  },
  "language_info": {
   "codemirror_mode": {
    "name": "ipython",
    "version": 3
   },
   "file_extension": ".py",
   "mimetype": "text/x-python",
   "name": "python",
   "nbconvert_exporter": "python",
   "pygments_lexer": "ipython3",
   "version": "3.10.13"
  }
 },
 "nbformat": 4,
 "nbformat_minor": 5
}
