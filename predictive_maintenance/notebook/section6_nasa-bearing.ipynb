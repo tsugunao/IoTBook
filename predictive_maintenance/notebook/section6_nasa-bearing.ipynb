{
 "cells": [
  {
   "cell_type": "markdown",
   "id": "466702b8-ac35-46f1-8f60-f16f67000432",
   "metadata": {},
   "source": "# 5章：機械学習の適用による予兆検知（Amazon SageMaker）"
  },
  {
   "cell_type": "markdown",
   "id": "3a853fe7-6a42-46e2-b350-6256f55a682d",
   "metadata": {},
   "source": [
    "ここでは、[NASA Bearing Datasetのデータ](https://www.nasa.gov/intelligent-systems-division/discovery-and-systems-health/pcoe/pcoe-data-set-repository/)を利用して、教師なし異常検知モデルを構築します。\\\n",
    "上記、リンクからダウンロードし、本の内容に従ってご自身のAWSアカウントのS3上にデータを配置ください。"
   ]
  },
  {
   "cell_type": "markdown",
   "id": "73bffca6-72a4-49d3-b50f-0112c64d9004",
   "metadata": {},
   "source": [
    "## ライブラリのインストールと読み込み"
   ]
  },
  {
   "cell_type": "markdown",
   "id": "75f930a4-313d-4592-b6d5-1898d4200aff",
   "metadata": {},
   "source": [
    "必要なpythonライブラリのインストールとimportを行います。"
   ]
  },
  {
   "cell_type": "code",
   "execution_count": null,
   "id": "38dff5d2-5423-4bd0-9774-a6e13cbef27e",
   "metadata": {
    "tags": []
   },
   "outputs": [],
   "source": [
    "!pip install smart-open\n",
    "!pip install tqdm\n",
    "\n",
    "import pandas as pd\n",
    "import numpy as np\n",
    "import datetime as dt\n",
    "import csv\n",
    "import smart_open\n",
    "from tqdm.notebook import tqdm\n",
    "import boto3\n",
    "import sagemaker\n",
    "from sagemaker import RandomCutForest\n",
    "import matplotlib.pyplot as plt\n",
    "import seaborn as sns\n",
    "sns.set()"
   ]
  },
  {
   "cell_type": "markdown",
   "id": "9c631abb-8f31-4365-bbeb-72cfac834db6",
   "metadata": {},
   "source": [
    "## データ加工"
   ]
  },
  {
   "cell_type": "markdown",
   "id": "74cfa12d-3514-40a3-b6b1-394e9056a666",
   "metadata": {},
   "source": [
    "NASA Bearing Datasetのデータ加工を行います。データ加工内容は、時刻情報の追加です。\\\n",
    "`{your bucket name}`にご自身のS3バケット名を入力し、実行します。\\\n",
    "データ量が多いため、実行には数分要します。"
   ]
  },
  {
   "cell_type": "code",
   "execution_count": 2,
   "id": "2e904061-5568-4bef-a25d-40fa386f360f",
   "metadata": {
    "tags": []
   },
   "outputs": [
    {
     "data": {
      "application/vnd.jupyter.widget-view+json": {
       "model_id": "eb60494c92294406a6d2d5a168497d6a",
       "version_major": 2,
       "version_minor": 0
      },
      "text/plain": [
       "  0%|          | 0/984 [00:00<?, ?it/s]"
      ]
     },
     "metadata": {},
     "output_type": "display_data"
    }
   ],
   "source": [
    "bucket_name = \"anomaly-detection-nasa-bearing-20231111\"\n",
    "rawdata_prefix_key = \"IMS/2nd_test\"\n",
    "csvdata_prefix_key = \"csv/2nd_test\"\n",
    "\n",
    "#S3から生データのファイルリストを取得\n",
    "s3_client = boto3.resource('s3')\n",
    "bucket = s3_client.Bucket(bucket_name)\n",
    "response = bucket.meta.client.list_objects_v2(Bucket=bucket.name, Prefix=rawdata_prefix_key)\n",
    "\n",
    "# 各ファイルでのデータ処理\n",
    "for obj in tqdm(response['Contents']):\n",
    "    if obj[\"Size\"] != 0 :\n",
    "        prefixKey = obj[\"Key\"]\n",
    "        \n",
    "        #ファイル名から開始時刻の取得\n",
    "        filename_format = '%Y.%m.%d.%H.%M.%S'\n",
    "        target_time = dt.datetime.strptime(prefixKey.split('/')[-1], filename_format)\n",
    "        \n",
    "        #出力するcsvファイル名、urlを定義\n",
    "        csv_filename = prefixKey.split(\"/\")[-1]+'.csv'\n",
    "        url = \"s3://{}/{}/{}\".format(bucket_name,csvdata_prefix_key,csv_filename)\n",
    "        \n",
    "        #データ処理\n",
    "        #S3から生データを読み込み、日付を先頭に追加してcsvファイルとしてS3に配置する。\n",
    "        with smart_open.open(url, 'w', transport_params={'client': boto3.client('s3')}) as fout:\n",
    "            writer = csv.writer(fout)\n",
    "            with smart_open.open(\"s3://{}/{}\".format(bucket_name,prefixKey),'rb', transport_params={'client': boto3.client('s3')}) as fin:\n",
    "                for _line in fin:\n",
    "                    #ファイル中のレコード読み込み\n",
    "                    _line = _line.decode().replace('\\r\\n','').split('\\t')\n",
    "\n",
    "                    #時刻追加\n",
    "                    _line.insert(0,target_time.strftime('%Y-%m-%d %H:%M:%S.%f'))\n",
    "\n",
    "                    #レコードの追加\n",
    "                    writer.writerow(_line)\n",
    "\n",
    "                    #時間の更新\n",
    "                    target_time = target_time + dt.timedelta(milliseconds=600000/20480)"
   ]
  },
  {
   "cell_type": "markdown",
   "id": "11c6f948-204a-4d6e-a714-8fb10431978c",
   "metadata": {},
   "source": [
    "## 学習データの準備"
   ]
  },
  {
   "cell_type": "markdown",
   "id": "99ac1d12-f5c0-4743-bb23-4b7640e06632",
   "metadata": {},
   "source": [
    "モデルを構築するための学習データを選定し、配置します。最も古いデータである\"2004.02.12.10.32.39.csv\"のデータを正常データとして学習させるため、学習データとしてpandasのDataframeとして読み込みます。"
   ]
  },
  {
   "cell_type": "code",
   "execution_count": 3,
   "id": "14b99215-0cee-4158-b250-4e73f057be3a",
   "metadata": {
    "tags": []
   },
   "outputs": [
    {
     "name": "stderr",
     "output_type": "stream",
     "text": [
      "/home/ec2-user/anaconda3/envs/python3/lib/python3.10/site-packages/fsspec/registry.py:272: UserWarning: Your installed version of s3fs is very old and known to cause\n",
      "severe performance issues, see also https://github.com/dask/dask/issues/10276\n",
      "\n",
      "To fix, you should specify a lower version bound on s3fs, or\n",
      "update the current installation.\n",
      "\n",
      "  warnings.warn(s3_msg)\n"
     ]
    }
   ],
   "source": [
    "train_filename = \"2004.02.12.10.32.39.csv\"\n",
    "training_prefix_key = 'rcf-model-training'\n",
    "\n",
    "#学習データの読み込み\n",
    "train_csv_filepath = \"s3://{}/{}/{}\".format(bucket_name,csvdata_prefix_key,train_filename)\n",
    "df_train = pd.read_csv(train_csv_filepath,\n",
    "                       header=None,\n",
    "                       names=['datetime','B1','B2','B3','B4'],\n",
    "                       dtype = {'datetime':'str', 'B1':'float32', 'B2':'float32','B3':'float32','B4':'float32'},\n",
    "                       parse_dates=['datetime']\n",
    "        \n",
    ")\n",
    "train = df_train[['B1','B2','B3','B4']]"
   ]
  },
  {
   "cell_type": "markdown",
   "id": "02aa84ec-08c9-41bb-89e8-3f48971faf21",
   "metadata": {},
   "source": [
    "s3fsのバージョンが古いというWarningが出力されることがありますが、問題ありません。"
   ]
  },
  {
   "cell_type": "markdown",
   "id": "818b037f-52ad-4859-b3b2-236d213e4e69",
   "metadata": {},
   "source": [
    "## モデル構築"
   ]
  },
  {
   "cell_type": "markdown",
   "id": "3713059e-2e84-4f0d-8df0-a151f2a4cb46",
   "metadata": {},
   "source": [
    "Random Cut Forest(RCF)を用いて教師なし異常検知モデルを構築します。\\\n",
    "学習には数分かかります。"
   ]
  },
  {
   "cell_type": "code",
   "execution_count": null,
   "id": "17524b6d-897f-45dc-bc14-3d03a72fe7cc",
   "metadata": {
    "tags": []
   },
   "outputs": [],
   "source": [
    "#学習ジョブ実行のためのセッション取得\n",
    "session = sagemaker.Session()\n",
    "execution_role = sagemaker.get_execution_role()\n",
    "\n",
    "#学習ジョブの設定\n",
    "rcf = RandomCutForest(role=execution_role,\n",
    "                      instance_count=1,\n",
    "                      instance_type='ml.m5.xlarge',\n",
    "                      data_location='s3://{}/{}/record-set/'.format(bucket_name, training_prefix_key),\n",
    "                      output_path='s3://{}/{}/output'.format(bucket_name, training_prefix_key),\n",
    "                      num_samples_per_tree=512,\n",
    "                      num_trees=100)\n",
    "\n",
    "#学習ジョブの実行\n",
    "rcf.fit(rcf.record_set(train.to_numpy(),channel='train', encrypt=False))\n",
    "\n",
    "#学習ジョブ名の表示\n",
    "print('Training job name: {}'.format(rcf.latest_training_job.job_name))"
   ]
  },
  {
   "cell_type": "markdown",
   "id": "6336e288-8972-4db1-af18-4b14965364a3",
   "metadata": {},
   "source": [
    "## バッチ推論の実行"
   ]
  },
  {
   "cell_type": "markdown",
   "id": "9c7b3e8a-ffd4-4bed-8b6f-ea944c7b2783",
   "metadata": {},
   "source": [
    "構築されたモデルを使って、推論を実行します。今回はバッチ変換（推論）を使ってS3上のデータを一気に推論し、結果をS3に出力します。\\\n",
    "推論には10分程度かかります。"
   ]
  },
  {
   "cell_type": "code",
   "execution_count": null,
   "id": "f6a4fe02-85ec-4aa2-8ee6-d67235522f35",
   "metadata": {
    "tags": []
   },
   "outputs": [],
   "source": [
    "inference_input_location = \"s3://{}/{}\".format(bucket_name, csvdata_prefix_key)\n",
    "\n",
    "inference_output_prefix_key = 'rcf-model-inference'\n",
    "inference_output_location = \"s3://{}/{}\".format(bucket_name, inference_output_prefix_key)\n",
    "\n",
    "num_instances = 4\n",
    "rcf_transformer = rcf.transformer(\n",
    "                                    instance_count = num_instances, \n",
    "                                    instance_type = 'ml.m5.xlarge', \n",
    "                                    strategy = \"MultiRecord\",\n",
    "                                    assemble_with = 'Line', \n",
    "                                    accept = 'text/csv',\n",
    "                                    output_path = inference_output_location\n",
    "                                   )\n",
    "\n",
    "# start a transform job\n",
    "rcf_transformer.transform(inference_input_location, \n",
    "                          split_type='Line', \n",
    "                          content_type='text/csv', \n",
    "                          join_source='Input',\n",
    "                          input_filter='$[1:4]'\n",
    "                         )\n",
    "rcf_transformer.wait()"
   ]
  },
  {
   "cell_type": "markdown",
   "id": "273e8bb9-a66c-4969-9ad4-c5004e2a79c1",
   "metadata": {},
   "source": [
    "## 推論結果の可視化"
   ]
  },
  {
   "cell_type": "markdown",
   "id": "e7a9c993-5c96-4e6f-871e-7034544d17f1",
   "metadata": {},
   "source": [
    "バッチ変換（推論）により、出力された異常度スコアを可視化します。\\\n",
    "実行には数分かかります。"
   ]
  },
  {
   "cell_type": "code",
   "execution_count": 6,
   "id": "a5e88b54-aed3-494c-a154-441afdeea8b7",
   "metadata": {
    "tags": []
   },
   "outputs": [
    {
     "data": {
      "application/vnd.jupyter.widget-view+json": {
       "model_id": "773c986d4ebd46f5869658d9cbc811dc",
       "version_major": 2,
       "version_minor": 0
      },
      "text/plain": [
       "  0%|          | 0/984 [00:00<?, ?it/s]"
      ]
     },
     "metadata": {},
     "output_type": "display_data"
    },
    {
     "data": {
      "text/plain": [
       "<matplotlib.legend.Legend at 0x7faf1a78c340>"
      ]
     },
     "execution_count": 6,
     "metadata": {},
     "output_type": "execute_result"
    },
    {
     "data": {
      "image/png": "[encoded data removed]",
      "text/plain": [
       "<Figure size 1000x500 with 1 Axes>"
      ]
     },
     "metadata": {},
     "output_type": "display_data"
    }
   ],
   "source": [
    "s3_client = boto3.resource('s3')\n",
    "bucket = s3_client.Bucket(bucket_name)\n",
    "response = bucket.meta.client.list_objects_v2(Bucket=bucket.name, Prefix=inference_output_prefix_key)\n",
    "\n",
    "list_anomalyscore = []\n",
    "\n",
    "# 各ファイルでのデータ処理\n",
    "for obj in tqdm(response['Contents']):\n",
    "    if obj[\"Size\"] != 0 :\n",
    "        prefixKey = obj[\"Key\"]\n",
    "        _list_records = []\n",
    "        \n",
    "        #データ処理\n",
    "        #S3から推論結果データを読み込み、統計処理を加えて異常度スコアを取得\n",
    "        for line in smart_open.smart_open(\"s3://{}/{}\".format(bucket_name,prefixKey)):\n",
    "            _list_line = line.decode().replace('\\n','').split(',')\n",
    "            _list_records.append(_list_line)\n",
    "            \n",
    "        #numpyの配列に変換し、0列目のdatetimeの最小値、5列目の異常度スコアの中央値を計算\n",
    "        _list_array = np.array(_list_records)\n",
    "        datetime_min = np.min(_list_array[:,0].astype(dt.datetime),axis=0)\n",
    "        anomaly_score_median = np.median(_list_array[:,5].astype(np.float32),axis=0)\n",
    "\n",
    "        #各ファイルごとの統計値を取得\n",
    "        list_anomalyscore.append([datetime_min,anomaly_score_median])\n",
    "        \n",
    "#異常度スコアの中央値をグラフ化\n",
    "df_score = pd.DataFrame(list_anomalyscore, columns=['datetime','anomaly_score'])\n",
    "df_score['datetime'] = pd.to_datetime(df_score['datetime'])\n",
    "df_score = df_score.set_index('datetime')\n",
    "\n",
    "threshold = 0.75\n",
    "ax = df_score.plot(figsize=(10,5))\n",
    "ax.hlines([threshold], df_score.index.min(), df_score.index.max(), \"red\", linestyles='dashed',label=\"Threshold:\"+str(threshold)) \n",
    "ax.legend()"
   ]
  },
  {
   "cell_type": "markdown",
   "id": "83964eac-d550-4955-a0af-085beaef9b06",
   "metadata": {},
   "source": [
    "閾値0.75とした場合、2004年2月17日に異常検知できたことがわかります。"
   ]
  },
  {
   "cell_type": "markdown",
   "id": "0df24c11-b29b-490b-b6e9-7f2727c04eac",
   "metadata": {},
   "source": [
    "## モデル名の出力"
   ]
  },
  {
   "cell_type": "markdown",
   "id": "b4e10c87-8eb7-411a-afe1-f7eea0befeb5",
   "metadata": {},
   "source": [
    "後に利用するモデル名を出力します。"
   ]
  },
  {
   "cell_type": "code",
   "execution_count": null,
   "id": "844ccf53-0926-41c0-9fcc-41a5cb16795a",
   "metadata": {
    "tags": []
   },
   "outputs": [],
   "source": [
    "rcf_transformer.model_name"
   ]
  },
  {
   "cell_type": "markdown",
   "id": "2669e569-8836-49da-857d-9d25c686d5da",
   "metadata": {},
   "source": [
    "### EOF"
   ]
  }
 ],
 "metadata": {
  "kernelspec": {
   "display_name": "conda_python3",
   "language": "python",
   "name": "conda_python3"
  },
  "language_info": {
   "codemirror_mode": {
    "name": "ipython",
    "version": 3
   },
   "file_extension": ".py",
   "mimetype": "text/x-python",
   "name": "python",
   "nbconvert_exporter": "python",
   "pygments_lexer": "ipython3",
   "version": "3.10.13"
  }
 },
 "nbformat": 4,
 "nbformat_minor": 5
}
